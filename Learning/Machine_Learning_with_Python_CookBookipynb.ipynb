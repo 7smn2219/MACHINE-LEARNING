{
  "nbformat": 4,
  "nbformat_minor": 0,
  "metadata": {
    "colab": {
      "provenance": [],
      "authorship_tag": "ABX9TyP0ykHPXWQyr534sZq1gQB2",
      "include_colab_link": true
    },
    "kernelspec": {
      "name": "python3",
      "display_name": "Python 3"
    },
    "language_info": {
      "name": "python"
    }
  },
  "cells": [
    {
      "cell_type": "markdown",
      "metadata": {
        "id": "view-in-github",
        "colab_type": "text"
      },
      "source": [
        "<a href=\"https://colab.research.google.com/github/7smn2219/MACHINE-LEARNING/blob/main/Learning/Machine_Learning_with_Python_CookBookipynb.ipynb\" target=\"_parent\"><img src=\"https://colab.research.google.com/assets/colab-badge.svg\" alt=\"Open In Colab\"/></a>"
      ]
    },
    {
      "cell_type": "markdown",
      "source": [
        "# Chapter\t1.\tWorking\twith\tVectors,\tMatrices and\tArrays\tin\tNumPy"
      ],
      "metadata": {
        "id": "rbz1jQYGmaZ6"
      }
    },
    {
      "cell_type": "markdown",
      "source": [
        "## 1.0 Introduction\n",
        " NumPy\tis\ta\tfoundational\ttool\tof\tthe\tPython\tmachine\tlearning\tstack.\tNumPy\tallows\tfor\tefficient\n",
        " operations\ton\tthe\tdata\tstructures\toften\tused\tin\tmachine\tlearning:\tvectors,\tmatrices,\tand\ttensors.\tWhile\n",
        " NumPy\tis\tnot\tthe\tfocus\tof\tthis\tbook,\tit\twill\tshow\tup\tfrequently\tthroughout\tthe\tfollowing\tchapters.\tThis\n",
        " chapter\tcovers\tthe\tmost\tcommon\tNumPy\toperations\twe\tare\tlikely\tto\trun\tinto\twhile\tworking\ton\tmachine\n",
        " learning\tworkflows"
      ],
      "metadata": {
        "id": "VLlOvR30miMM"
      }
    },
    {
      "cell_type": "markdown",
      "source": [
        "## 1.1 Creating a Vector\n",
        "\n",
        "### Problem\n",
        " You\tneed\tto\tcreate\ta\tvector.\n",
        "\n",
        "### Solution\n",
        " Use\tNumPy\tto\tcreate\ta\tone-dimensional\tarray:\n",
        "\n",
        "### Discussion\n",
        " NumPy’s\tmain\tdata\tstructure\tis\tthe\tmultidimensional\tarray.\tA\tvector\tis\tjust\tan\tarray\twith\ta\tsingle\n",
        " dimension.\tIn\torder\tto\tcreate\ta\tvector,\twe\tsimply\tcreate\ta\tone-dimensional\tarray.\tJust\tlike\tvectors,\tthese\n",
        "arrays\tcan\tbe\trepresented\thorizontally\t(i.e.,\trows)\tor\tvertically\t(i.e.,\tcolumns)"
      ],
      "metadata": {
        "id": "xkTJ5Ha1mu7o"
      }
    },
    {
      "cell_type": "code",
      "source": [
        "# Load library\n",
        "import numpy as np\n",
        "\n",
        "# Create a vector as a row\n",
        "vector_row = np.array([1, 2, 3])\n",
        "display(vector_row)\n",
        "\n",
        "# Create a vector as a column\n",
        "vector_column = np.array([[1], [2], [3]])\n",
        "display(vector_column)"
      ],
      "metadata": {
        "id": "-ksnSgJ0mukJ",
        "outputId": "660d0509-5bf5-41d5-80db-15e4b6d3bc87",
        "colab": {
          "base_uri": "https://localhost:8080/",
          "height": 86
        }
      },
      "execution_count": 5,
      "outputs": [
        {
          "output_type": "display_data",
          "data": {
            "text/plain": [
              "array([1, 2, 3])"
            ]
          },
          "metadata": {}
        },
        {
          "output_type": "display_data",
          "data": {
            "text/plain": [
              "array([[1],\n",
              "       [2],\n",
              "       [3]])"
            ]
          },
          "metadata": {}
        }
      ]
    },
    {
      "cell_type": "markdown",
      "source": [
        "##  1.2\tCreating\ta\tMatrix\n",
        "###Problem\n",
        " You\tneed\tto\tcreate\ta\tmatrix.\n",
        "\n",
        "###Solution\n",
        " Use\tNumPy\tto\tcreate\ta\ttwo-dimensional\tarray:\n",
        "\n",
        "### Discussion\n",
        " To\tcreate\ta\tmatrix\twe\tcan\tuse\ta\tNumPy\ttwo-dimensional\tarray.\tIn\tour\tsolution,\tthe\tmatrix\tcontains\n",
        " three\trows\tand\ttwo\tcolumns\t(a\tcolumn\tof\t1s\tand\ta\tcolumn\tof\t2s).\n",
        " NumPy\tactually\thas\ta\tdedicated\tmatrix\tdata\tstructure\n",
        "\n",
        "```\n",
        "matrix_object = np.mat([[1, 2],\n",
        "                       [1, 2],\n",
        "                       [1, 2]])\n",
        "```"
      ],
      "metadata": {
        "id": "tRjUDDOKn9ZV"
      }
    },
    {
      "cell_type": "code",
      "execution_count": 7,
      "metadata": {
        "id": "2_FI1kcgkVXa",
        "outputId": "79370338-b8e2-4cfa-f902-fddcd1f54289",
        "colab": {
          "base_uri": "https://localhost:8080/",
          "height": 69
        }
      },
      "outputs": [
        {
          "output_type": "display_data",
          "data": {
            "text/plain": [
              "array([[1, 2],\n",
              "       [1, 2],\n",
              "       [1, 2]])"
            ]
          },
          "metadata": {}
        }
      ],
      "source": [
        "import numpy as np\n",
        "\n",
        "# Create a matrix\n",
        "matrix = np.array([[1, 2], [1,2], [1, 2]])\n",
        "display(matrix)"
      ]
    },
    {
      "cell_type": "markdown",
      "source": [
        "## 1.3 Creating a Sparse Matrix\n",
        "\n",
        "### Problem\n",
        " Given\tdata\twith\tvery\tfew\tnonzero\tvalues,\tyou\twant\tto\tefficiently\trepresent\tit.\n",
        "\n",
        "### Solution\n",
        " Create\ta\tsparse\tmatrix"
      ],
      "metadata": {
        "id": "U8SBgJDWofdJ"
      }
    },
    {
      "cell_type": "code",
      "source": [
        "import numpy as np\n",
        "from scipy import sparse\n",
        "\n",
        "# Create a matix\n",
        "matrix = np.array([[0, 0], [0, 1], [3, 0]])\n",
        "\n",
        "matrix_spare = sparse.csr_matrix(matrix)\n",
        "display(matrix_spare)"
      ],
      "metadata": {
        "id": "5rfy56Y2mXpX",
        "outputId": "9a028d59-0d83-413d-e13e-2816c0deb674",
        "colab": {
          "base_uri": "https://localhost:8080/",
          "height": 52
        }
      },
      "execution_count": 11,
      "outputs": [
        {
          "output_type": "display_data",
          "data": {
            "text/plain": [
              "<Compressed Sparse Row sparse matrix of dtype 'int64'\n",
              "\twith 2 stored elements and shape (3, 2)>"
            ]
          },
          "metadata": {}
        }
      ]
    },
    {
      "cell_type": "markdown",
      "source": [
        "### Discussion\n",
        "  A\tfrequent\tsituation\tin\tmachine\tlearning\tis\thaving\ta\thuge\tamount\tof\tdata;\thowever,\tmost\tof\tthe <br>\n",
        " elements\tin\tthe\tdata\tare\tzeros.\tFor\texample,\n",
        " ```\n",
        " Imagine\ta\tmatrix\twhere\tthe\tcolumns\tare\tevery\tmovie\ton Netflix, the\trows\tare\tevery\tNetflix\tuser,\n",
        " and\tthe\tvalues\tare\thow\tmany\ttimes\ta\tuser\thas\twatched\tthat particular\tmovie.\n",
        " This\tmatrix\twould\thave\ttens\tof\tthousands\tof\tcolumns\tand\tmillions\tof\trows!\n",
        " However,  since\tmost\tusers\tdo\tnot\twatch\tmost\tmovies,\tthe\tvast\tmajority\tof\n",
        " elements\twould\tbe\tzero. A\tsparse\tmatrix\tis\ta\tmatrix\tin\twhich\tmost\telements\tare\t0.\n",
        " ```\n",
        " Sparse\tmatrices\tonly\tstore\tnonzero\telements <br>\n",
        " and\tassume\tall\tother\tvalues\twill\tbe\tzero,\tleading\tto\tsignificant\tcomputational\tsavings.\tIn\tour\tsolution, <br>\n",
        " we\tcreated\ta\tNumPy\tarray\twith\ttwo\tnonzero\tvalues,\tthen\tconverted\tit\tinto\ta\tsparse\tmatrix.\tIf\twe\tview <br>\n",
        " the\tsparse\tmatrix\twe\tcan\tsee\tthat\tonly\tthe\tnonzero\tvalues\tare\tstored:\n"
      ],
      "metadata": {
        "id": "aG0GatIfpFlT"
      }
    },
    {
      "cell_type": "code",
      "source": [
        "print(matrix_spare)"
      ],
      "metadata": {
        "id": "9Kj3DEcnpA7D",
        "outputId": "5100c67e-6dae-4031-845b-601b92aeedc7",
        "colab": {
          "base_uri": "https://localhost:8080/"
        }
      },
      "execution_count": 10,
      "outputs": [
        {
          "output_type": "stream",
          "name": "stdout",
          "text": [
            "<Compressed Sparse Row sparse matrix of dtype 'int64'\n",
            "\twith 2 stored elements and shape (3, 2)>\n",
            "  Coords\tValues\n",
            "  (1, 1)\t1\n",
            "  (2, 0)\t3\n"
          ]
        }
      ]
    },
    {
      "cell_type": "markdown",
      "source": [
        "\n",
        " There\tare\ta\tnumber\tof\ttypes\tof\tsparse\tmatrices.\tHowever,\tin\tcompressed\tsparse\trow\t(CSR)\tmatrices, <br>\n",
        " (1, 1)\tand\t(2, 0)\trepresent\tthe\t(zero-indexed)\tindices\tof\tthe\tnon-zero\tvalues\t1\tand\t3,\trespectively. <br>\n",
        " For\texample,\tthe\telement\t1\tis\tin\tthe\tsecond\trow\tand\tsecond\tcolumn.\tWe\tcan\tsee\tthe\tadvantage\tof\tsparse <br>\n",
        " matrices\tif\twe\tcreate\ta\tmuch\tlarger\tmatrix\twith\tmany\tmore\tzero\telements\tand\tthen\tcompare\tthis\tlarger <br>\n",
        " matrix\twith\tour\toriginal\tsparse\tmatrix:\n"
      ],
      "metadata": {
        "id": "oUHYX-T4pxFX"
      }
    },
    {
      "cell_type": "code",
      "source": [
        "matrix_large = np.array([[0, 0, 0, 0, 0, 0, 0, 0, 0, 0],\n",
        "                        [0, 1, 0, 0, 0, 0, 0, 0, 0, 0],\n",
        "                        [3, 0, 0, 0, 0, 0, 0, 0, 0, 0]])\n",
        "\n",
        "# Create a compressed sparse row (CSR) matrix\n",
        "matrix_large_sparse = sparse.csr_matrix(matrix_large)\n",
        "print(matrix_large_sparse)"
      ],
      "metadata": {
        "id": "oFBYjg6Dptop",
        "outputId": "2a4d251e-c7fc-40c1-e128-13a79b3bdb27",
        "colab": {
          "base_uri": "https://localhost:8080/"
        }
      },
      "execution_count": 14,
      "outputs": [
        {
          "output_type": "stream",
          "name": "stdout",
          "text": [
            "<Compressed Sparse Row sparse matrix of dtype 'int64'\n",
            "\twith 2 stored elements and shape (3, 10)>\n",
            "  Coords\tValues\n",
            "  (1, 1)\t1\n",
            "  (2, 0)\t3\n"
          ]
        }
      ]
    },
    {
      "cell_type": "markdown",
      "source": [
        "As\twe\tcan\tsee,\tdespite\tthe\tfact\tthat\twe\tadded\tmany\tmore\tzero\telements\tin\tthe\tlarger\tmatrix,\tits\tsparse \\\\\n",
        " representation\tis\texactly\tthe\tsame\tas\tour\toriginal\tsparse\tmatrix.\tThat\tis,\tthe\taddition\tof\tzero\telements \\\\\n",
        " did\tnot\tchange\tthe\tsize\tof\tthe\tsparse\tmatrix.\n",
        " As\tmentioned,\tthere\tare\tmany\tdifferent\ttypes\tof\tsparse\tmatrices,\tsuch\tas\tcompressed\tsparse\tcolumn,\tlist \\\\\n",
        " of\tlists,\tand\tdictionary\tof\tkeys.\tWhile\tan\texplanation\tof\tthe\tdifferent\ttypes\tand\ttheir\timplications\tis \\\\\n",
        " outside\tthe\tscope\tof\tthis\tbook,\tit\tis\tworth\tnoting\tthat\twhile\tthere\tis\tno\t“best”\tsparse\tmatrix\ttype,\tthere \\\\\n",
        " are\tmeaningful\tdifferences\tbetween\tthem\tand\twe\tshould\tbe\tconscious\tabout\twhy\twe\tare\tchoosing\tone \\\\\n",
        " type\tover\tanother"
      ],
      "metadata": {
        "id": "_fwFLwB3rVDf"
      }
    },
    {
      "cell_type": "markdown",
      "source": [
        "##  1.4\tPre-allocating\tNumpy\tArrays\n",
        "### Problem\n",
        " You\tneed\tto\tpre-allocate\tarrays\tof\ta\tgiven\tsize\twith\tsome\tvalue.\n",
        "\n",
        "### Solution\n",
        " NumPy\thas\tfunctions\tfor\tgenerating\tvectors\tand\tmatrices\tof\tany\tsize\tusing\t0s,\t1s,\tor\tvalues\tof\tyour\n",
        " choice."
      ],
      "metadata": {
        "id": "uvSYRKMErovF"
      }
    },
    {
      "cell_type": "code",
      "source": [
        "import numpy as np\n",
        "\n",
        "# Generate a vector of shape (1, 5) containing all zeros\n",
        "vector = np.zeros(shape=5)\n",
        "display(vector)\n",
        "\n",
        "# Generate a matrix of shape (3, 3) containing all ones\n",
        "matrix = np.full(shape=(3, 3), fill_value=1)\n",
        "display(matrix)"
      ],
      "metadata": {
        "id": "-tIACyL1pmyK",
        "outputId": "bbca187a-87b0-4ee5-f08c-a8e3313187d6",
        "colab": {
          "base_uri": "https://localhost:8080/",
          "height": 86
        }
      },
      "execution_count": 17,
      "outputs": [
        {
          "output_type": "display_data",
          "data": {
            "text/plain": [
              "array([0., 0., 0., 0., 0.])"
            ]
          },
          "metadata": {}
        },
        {
          "output_type": "display_data",
          "data": {
            "text/plain": [
              "array([[1, 1, 1],\n",
              "       [1, 1, 1],\n",
              "       [1, 1, 1]])"
            ]
          },
          "metadata": {}
        }
      ]
    },
    {
      "cell_type": "markdown",
      "source": [
        "###  Discussion\n",
        " Generating\tarrays\tprefilled\twith\tdata\tis\tuseful\tfor\ta\tnumber\tof\tpurposes,\tsuch\tas\tmaking\tcode\tmore\n",
        " performant\tor\thaving\tsynthetic\tdata\tto\ttest\talgorithms\twith.\tIn\tmany\tprogramming\tlanguages,\tpre\n",
        "allocating\tan\tarray\tof\tdefault\tvalues\t(such\tas\t0s)\tis\tconsidered\tcommon\tpractice"
      ],
      "metadata": {
        "id": "sQIi28KZsRSQ"
      }
    },
    {
      "cell_type": "markdown",
      "source": [
        "##  1.5\tSelecting\tElements\n",
        "### Problem\n",
        " You\tneed\tto\tselect\tone\tor\tmore\telements\tin\ta\tvector\tor\tmatrix.\n",
        "### Solution\n",
        " NumPy’s\tarrays\tmake\tit\teasy\tto\tselect\telements\tin\tvectors\tor\tmatrices"
      ],
      "metadata": {
        "id": "Vm295qG9sZ3m"
      }
    },
    {
      "cell_type": "code",
      "source": [
        "import numpy as np\n",
        "\n",
        "# Create row vector\n",
        "vector = np.array([1, 2, 3, 4, 5, 6])\n",
        "\n",
        "# Create matrix\n",
        "matrix = np.array([[1, 2, 3], [4, 5, 6], [7, 8, 9]])\n",
        "\n",
        "display(vector[2])\n",
        "\n",
        "display(matrix[1, 1])"
      ],
      "metadata": {
        "id": "JSkq_b0cr90L",
        "outputId": "f58cc97f-ea0b-4b84-a15e-db862201d847",
        "colab": {
          "base_uri": "https://localhost:8080/",
          "height": 52
        }
      },
      "execution_count": 20,
      "outputs": [
        {
          "output_type": "display_data",
          "data": {
            "text/plain": [
              "np.int64(3)"
            ]
          },
          "metadata": {}
        },
        {
          "output_type": "display_data",
          "data": {
            "text/plain": [
              "np.int64(5)"
            ]
          },
          "metadata": {}
        }
      ]
    },
    {
      "cell_type": "markdown",
      "source": [
        "### Discussion\n",
        " Like\tmost\tthings\tin\tPython,\tNumPy\tarrays\tare\tzero-indexed,\tmeaning\tthat\tthe\tindex\tof\tthe\tfirst\telement \\\\\n",
        " is\t0,\tnot\t1.\tWith\tthat\tcaveat,\tNumPy\toffers\ta\twide\tvariety\tof\tmethods\tfor\tselecting\t(i.e.,\tindexing\tand \\\\\n",
        " slicing)\telements\tor\tgroups\tof\telements\tin\tarrays"
      ],
      "metadata": {
        "id": "kco-U9oOtB4G"
      }
    },
    {
      "cell_type": "code",
      "source": [
        "vector[:]"
      ],
      "metadata": {
        "id": "toR6Zoqkstaf",
        "outputId": "f1d832ef-0b6e-43bf-b941-4788204b7187",
        "colab": {
          "base_uri": "https://localhost:8080/"
        }
      },
      "execution_count": 21,
      "outputs": [
        {
          "output_type": "execute_result",
          "data": {
            "text/plain": [
              "array([1, 2, 3, 4, 5, 6])"
            ]
          },
          "metadata": {},
          "execution_count": 21
        }
      ]
    },
    {
      "cell_type": "code",
      "source": [
        "vector[:3]"
      ],
      "metadata": {
        "id": "uCWTfKlftIr0",
        "outputId": "b81c1bdd-1298-4037-a2d0-282cb3b0059e",
        "colab": {
          "base_uri": "https://localhost:8080/"
        }
      },
      "execution_count": 22,
      "outputs": [
        {
          "output_type": "execute_result",
          "data": {
            "text/plain": [
              "array([1, 2, 3])"
            ]
          },
          "metadata": {},
          "execution_count": 22
        }
      ]
    },
    {
      "cell_type": "code",
      "source": [
        "vector[-1]"
      ],
      "metadata": {
        "id": "Yiab-cg3tMzx",
        "outputId": "fc9e666f-ea7b-4aed-e9e3-e9741c6a999d",
        "colab": {
          "base_uri": "https://localhost:8080/"
        }
      },
      "execution_count": 23,
      "outputs": [
        {
          "output_type": "execute_result",
          "data": {
            "text/plain": [
              "np.int64(6)"
            ]
          },
          "metadata": {},
          "execution_count": 23
        }
      ]
    },
    {
      "cell_type": "code",
      "source": [
        "vector[::-1]"
      ],
      "metadata": {
        "id": "S18Yp1jrtOBn",
        "outputId": "c07c3def-ba41-42ad-dafb-f307c55c1f18",
        "colab": {
          "base_uri": "https://localhost:8080/"
        }
      },
      "execution_count": 24,
      "outputs": [
        {
          "output_type": "execute_result",
          "data": {
            "text/plain": [
              "array([6, 5, 4, 3, 2, 1])"
            ]
          },
          "metadata": {},
          "execution_count": 24
        }
      ]
    },
    {
      "cell_type": "code",
      "source": [
        "matrix[:2, :]"
      ],
      "metadata": {
        "id": "oraaPkKctQLO",
        "outputId": "262fd394-3c48-45b7-da97-fd28b44b31f2",
        "colab": {
          "base_uri": "https://localhost:8080/"
        }
      },
      "execution_count": 25,
      "outputs": [
        {
          "output_type": "execute_result",
          "data": {
            "text/plain": [
              "array([[1, 2, 3],\n",
              "       [4, 5, 6]])"
            ]
          },
          "metadata": {},
          "execution_count": 25
        }
      ]
    },
    {
      "cell_type": "code",
      "source": [],
      "metadata": {
        "id": "rxFhlhRgtTFL"
      },
      "execution_count": null,
      "outputs": []
    }
  ]
}