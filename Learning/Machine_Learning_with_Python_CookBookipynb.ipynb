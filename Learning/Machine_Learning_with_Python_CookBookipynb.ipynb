{
  "nbformat": 4,
  "nbformat_minor": 0,
  "metadata": {
    "colab": {
      "provenance": [],
      "authorship_tag": "ABX9TyOl0GZz1tgjv8i25l17z4cN",
      "include_colab_link": true
    },
    "kernelspec": {
      "name": "python3",
      "display_name": "Python 3"
    },
    "language_info": {
      "name": "python"
    }
  },
  "cells": [
    {
      "cell_type": "markdown",
      "metadata": {
        "id": "view-in-github",
        "colab_type": "text"
      },
      "source": [
        "<a href=\"https://colab.research.google.com/github/7smn2219/MACHINE-LEARNING/blob/main/Learning/Machine_Learning_with_Python_CookBookipynb.ipynb\" target=\"_parent\"><img src=\"https://colab.research.google.com/assets/colab-badge.svg\" alt=\"Open In Colab\"/></a>"
      ]
    },
    {
      "cell_type": "markdown",
      "source": [
        "# Chapter\t1.\tWorking\twith\tVectors,\tMatrices and\tArrays\tin\tNumPy"
      ],
      "metadata": {
        "id": "rbz1jQYGmaZ6"
      }
    },
    {
      "cell_type": "markdown",
      "source": [
        "## 1.0 Introduction\n",
        " NumPy\tis\ta\tfoundational\ttool\tof\tthe\tPython\tmachine\tlearning\tstack.\tNumPy\tallows\tfor\tefficient \\\\\n",
        " operations\ton\tthe\tdata\tstructures\toften\tused\tin\tmachine\tlearning:\tvectors,\tmatrices,\tand\ttensors.\tWhile \\\\\n",
        " NumPy\tis\tnot\tthe\tfocus\tof\tthis\tbook,\tit\twill\tshow\tup\tfrequently\tthroughout\tthe\tfollowing\tchapters.\tThis \\\\\n",
        " chapter\tcovers\tthe\tmost\tcommon\tNumPy\toperations\twe\tare\tlikely\tto\trun\tinto\twhile\tworking\ton\tmachine \\\\\n",
        " learning\tworkflows"
      ],
      "metadata": {
        "id": "VLlOvR30miMM"
      }
    },
    {
      "cell_type": "markdown",
      "source": [
        "## 1.1 Creating a Vector\n",
        "\n",
        "### Problem\n",
        " You\tneed\tto\tcreate\ta\tvector.\n",
        "\n",
        "### Solution\n",
        " Use\tNumPy\tto\tcreate\ta\tone-dimensional\tarray:\n",
        "\n",
        "### Discussion\n",
        " NumPy’s\tmain\tdata\tstructure\tis\tthe\tmultidimensional\tarray.\tA\tvector\tis\tjust\tan\tarray\twith\ta\tsingle \\\\\n",
        " dimension.\tIn\torder\tto\tcreate\ta\tvector,\twe\tsimply\tcreate\ta\tone-dimensional\tarray.\tJust\tlike\tvectors,\tthese \\\\\n",
        "arrays\tcan\tbe\trepresented\thorizontally\t(i.e.,\trows)\tor\tvertically\t(i.e.,\tcolumns)"
      ],
      "metadata": {
        "id": "xkTJ5Ha1mu7o"
      }
    },
    {
      "cell_type": "code",
      "source": [
        "# Load library\n",
        "import numpy as np\n",
        "\n",
        "# Create a vector as a row\n",
        "vector_row = np.array([1, 2, 3])\n",
        "display(vector_row)\n",
        "\n",
        "# Create a vector as a column\n",
        "vector_column = np.array([[1], [2], [3]])\n",
        "display(vector_column)"
      ],
      "metadata": {
        "id": "-ksnSgJ0mukJ",
        "outputId": "660d0509-5bf5-41d5-80db-15e4b6d3bc87",
        "colab": {
          "base_uri": "https://localhost:8080/",
          "height": 86
        }
      },
      "execution_count": null,
      "outputs": [
        {
          "output_type": "display_data",
          "data": {
            "text/plain": [
              "array([1, 2, 3])"
            ]
          },
          "metadata": {}
        },
        {
          "output_type": "display_data",
          "data": {
            "text/plain": [
              "array([[1],\n",
              "       [2],\n",
              "       [3]])"
            ]
          },
          "metadata": {}
        }
      ]
    },
    {
      "cell_type": "markdown",
      "source": [
        "##  1.2\tCreating\ta\tMatrix\n",
        "###Problem\n",
        " You\tneed\tto\tcreate\ta\tmatrix.\n",
        "\n",
        "###Solution\n",
        " Use\tNumPy\tto\tcreate\ta\ttwo-dimensional\tarray:\n",
        "\n",
        "### Discussion\n",
        " To\tcreate\ta\tmatrix\twe\tcan\tuse\ta\tNumPy\ttwo-dimensional\tarray.\tIn\tour\tsolution,\tthe\tmatrix\tcontains\n",
        " three\trows\tand\ttwo\tcolumns\t(a\tcolumn\tof\t1s\tand\ta\tcolumn\tof\t2s).\n",
        " NumPy\tactually\thas\ta\tdedicated\tmatrix\tdata\tstructure\n",
        "\n",
        "```\n",
        "matrix_object = np.mat([[1, 2],\n",
        "                       [1, 2],\n",
        "                       [1, 2]])\n",
        "```"
      ],
      "metadata": {
        "id": "tRjUDDOKn9ZV"
      }
    },
    {
      "cell_type": "code",
      "execution_count": null,
      "metadata": {
        "id": "2_FI1kcgkVXa",
        "outputId": "79370338-b8e2-4cfa-f902-fddcd1f54289",
        "colab": {
          "base_uri": "https://localhost:8080/",
          "height": 69
        }
      },
      "outputs": [
        {
          "output_type": "display_data",
          "data": {
            "text/plain": [
              "array([[1, 2],\n",
              "       [1, 2],\n",
              "       [1, 2]])"
            ]
          },
          "metadata": {}
        }
      ],
      "source": [
        "import numpy as np\n",
        "\n",
        "# Create a matrix\n",
        "matrix = np.array([[1, 2], [1,2], [1, 2]])\n",
        "display(matrix)"
      ]
    },
    {
      "cell_type": "markdown",
      "source": [
        "## 1.3 Creating a Sparse Matrix\n",
        "\n",
        "### Problem\n",
        " Given\tdata\twith\tvery\tfew\tnonzero\tvalues,\tyou\twant\tto\tefficiently\trepresent\tit.\n",
        "\n",
        "### Solution\n",
        " Create\ta\tsparse\tmatrix"
      ],
      "metadata": {
        "id": "U8SBgJDWofdJ"
      }
    },
    {
      "cell_type": "code",
      "source": [
        "import numpy as np\n",
        "from scipy import sparse\n",
        "\n",
        "# Create a matix\n",
        "matrix = np.array([[0, 0], [0, 1], [3, 0]])\n",
        "\n",
        "matrix_spare = sparse.csr_matrix(matrix)\n",
        "display(matrix_spare)"
      ],
      "metadata": {
        "id": "5rfy56Y2mXpX",
        "outputId": "9a028d59-0d83-413d-e13e-2816c0deb674",
        "colab": {
          "base_uri": "https://localhost:8080/",
          "height": 52
        }
      },
      "execution_count": null,
      "outputs": [
        {
          "output_type": "display_data",
          "data": {
            "text/plain": [
              "<Compressed Sparse Row sparse matrix of dtype 'int64'\n",
              "\twith 2 stored elements and shape (3, 2)>"
            ]
          },
          "metadata": {}
        }
      ]
    },
    {
      "cell_type": "markdown",
      "source": [
        "### Discussion\n",
        "  A\tfrequent\tsituation\tin\tmachine\tlearning\tis\thaving\ta\thuge\tamount\tof\tdata;\thowever,\tmost\tof\tthe <br>\n",
        " elements\tin\tthe\tdata\tare\tzeros.\tFor\texample,\n",
        "\n",
        " ---\n",
        " Imagine\ta\tmatrix\twhere\tthe\tcolumns\tare\tevery\tmovie\ton Netflix, the\trows\tare\tevery\tNetflix\tuser,\n",
        " and\tthe\tvalues\tare\thow\tmany\ttimes\ta\tuser\thas\twatched\tthat particular\tmovie.\n",
        " This\tmatrix\twould\thave\ttens\tof\tthousands\tof\tcolumns\tand\tmillions\tof\trows!\n",
        " However,  since\tmost\tusers\tdo\tnot\twatch\tmost\tmovies,\tthe\tvast\tmajority\tof\n",
        " elements\twould\tbe\tzero. A\tsparse\tmatrix\tis\ta\tmatrix\tin\twhich\tmost\telements\tare\t0.\n",
        "\n",
        "---\n",
        " Sparse\tmatrices\tonly\tstore\tnonzero\telements <br>\n",
        " and\tassume\tall\tother\tvalues\twill\tbe\tzero,\tleading\tto\tsignificant\tcomputational\tsavings.\tIn\tour\tsolution, <br>\n",
        " we\tcreated\ta\tNumPy\tarray\twith\ttwo\tnonzero\tvalues,\tthen\tconverted\tit\tinto\ta\tsparse\tmatrix.\tIf\twe\tview <br>\n",
        " the\tsparse\tmatrix\twe\tcan\tsee\tthat\tonly\tthe\tnonzero\tvalues\tare\tstored:\n"
      ],
      "metadata": {
        "id": "aG0GatIfpFlT"
      }
    },
    {
      "cell_type": "code",
      "source": [
        "print(matrix_spare)"
      ],
      "metadata": {
        "id": "9Kj3DEcnpA7D",
        "outputId": "5100c67e-6dae-4031-845b-601b92aeedc7",
        "colab": {
          "base_uri": "https://localhost:8080/"
        }
      },
      "execution_count": null,
      "outputs": [
        {
          "output_type": "stream",
          "name": "stdout",
          "text": [
            "<Compressed Sparse Row sparse matrix of dtype 'int64'\n",
            "\twith 2 stored elements and shape (3, 2)>\n",
            "  Coords\tValues\n",
            "  (1, 1)\t1\n",
            "  (2, 0)\t3\n"
          ]
        }
      ]
    },
    {
      "cell_type": "markdown",
      "source": [
        " There\tare\ta\tnumber\tof\ttypes\tof\tsparse\tmatrices.\tHowever,\tin\tcompressed\tsparse\trow\t(CSR)\tmatrices, <br>\n",
        " (1, 1)\tand\t(2, 0)\trepresent\tthe\t(zero-indexed)\tindices\tof\tthe\tnon-zero\tvalues\t1\tand\t3,\trespectively. <br>\n",
        " For\texample,\tthe\telement\t1\tis\tin\tthe\tsecond\trow\tand\tsecond\tcolumn.\tWe\tcan\tsee\tthe\tadvantage\tof\tsparse <br>\n",
        " matrices\tif\twe\tcreate\ta\tmuch\tlarger\tmatrix\twith\tmany\tmore\tzero\telements\tand\tthen\tcompare\tthis\tlarger <br>\n",
        " matrix\twith\tour\toriginal\tsparse\tmatrix:\n"
      ],
      "metadata": {
        "id": "oUHYX-T4pxFX"
      }
    },
    {
      "cell_type": "code",
      "source": [
        "matrix_large = np.array([[0, 0, 0, 0, 0, 0, 0, 0, 0, 0],\n",
        "                        [0, 1, 0, 0, 0, 0, 0, 0, 0, 0],\n",
        "                        [3, 0, 0, 0, 0, 0, 0, 0, 0, 0]])\n",
        "\n",
        "# Create a compressed sparse row (CSR) matrix\n",
        "matrix_large_sparse = sparse.csr_matrix(matrix_large)\n",
        "print(matrix_large_sparse)"
      ],
      "metadata": {
        "id": "oFBYjg6Dptop",
        "outputId": "2a4d251e-c7fc-40c1-e128-13a79b3bdb27",
        "colab": {
          "base_uri": "https://localhost:8080/"
        }
      },
      "execution_count": null,
      "outputs": [
        {
          "output_type": "stream",
          "name": "stdout",
          "text": [
            "<Compressed Sparse Row sparse matrix of dtype 'int64'\n",
            "\twith 2 stored elements and shape (3, 10)>\n",
            "  Coords\tValues\n",
            "  (1, 1)\t1\n",
            "  (2, 0)\t3\n"
          ]
        }
      ]
    },
    {
      "cell_type": "markdown",
      "source": [
        "As\twe\tcan\tsee,\tdespite\tthe\tfact\tthat\twe\tadded\tmany\tmore\tzero\telements\tin\tthe\tlarger\tmatrix,\tits\tsparse \\\\\n",
        " representation\tis\texactly\tthe\tsame\tas\tour\toriginal\tsparse\tmatrix.\tThat\tis,\tthe\taddition\tof\tzero\telements \\\\\n",
        " did\tnot\tchange\tthe\tsize\tof\tthe\tsparse\tmatrix.\n",
        " As\tmentioned,\tthere\tare\tmany\tdifferent\ttypes\tof\tsparse\tmatrices,\tsuch\tas\tcompressed\tsparse\tcolumn,\tlist \\\\\n",
        " of\tlists,\tand\tdictionary\tof\tkeys.\tWhile\tan\texplanation\tof\tthe\tdifferent\ttypes\tand\ttheir\timplications\tis \\\\\n",
        " outside\tthe\tscope\tof\tthis\tbook,\tit\tis\tworth\tnoting\tthat\twhile\tthere\tis\tno\t“best”\tsparse\tmatrix\ttype,\tthere \\\\\n",
        " are\tmeaningful\tdifferences\tbetween\tthem\tand\twe\tshould\tbe\tconscious\tabout\twhy\twe\tare\tchoosing\tone \\\\\n",
        " type\tover\tanother"
      ],
      "metadata": {
        "id": "_fwFLwB3rVDf"
      }
    },
    {
      "cell_type": "markdown",
      "source": [
        "##  1.4\tPre-allocating\tNumpy\tArrays\n",
        "### Problem\n",
        " You\tneed\tto\tpre-allocate\tarrays\tof\ta\tgiven\tsize\twith\tsome\tvalue.\n",
        "\n",
        "### Solution\n",
        " NumPy\thas\tfunctions\tfor\tgenerating\tvectors\tand\tmatrices\tof\tany\tsize\tusing\t0s,\t1s,\tor\tvalues\tof\tyour\n",
        " choice."
      ],
      "metadata": {
        "id": "uvSYRKMErovF"
      }
    },
    {
      "cell_type": "code",
      "source": [
        "import numpy as np\n",
        "\n",
        "# Generate a vector of shape (1, 5) containing all zeros\n",
        "vector = np.zeros(shape=5)\n",
        "display(vector)\n",
        "\n",
        "# Generate a matrix of shape (3, 3) containing all ones\n",
        "matrix = np.full(shape=(3, 3), fill_value=1)\n",
        "display(matrix)"
      ],
      "metadata": {
        "id": "-tIACyL1pmyK",
        "outputId": "bbca187a-87b0-4ee5-f08c-a8e3313187d6",
        "colab": {
          "base_uri": "https://localhost:8080/",
          "height": 86
        }
      },
      "execution_count": null,
      "outputs": [
        {
          "output_type": "display_data",
          "data": {
            "text/plain": [
              "array([0., 0., 0., 0., 0.])"
            ]
          },
          "metadata": {}
        },
        {
          "output_type": "display_data",
          "data": {
            "text/plain": [
              "array([[1, 1, 1],\n",
              "       [1, 1, 1],\n",
              "       [1, 1, 1]])"
            ]
          },
          "metadata": {}
        }
      ]
    },
    {
      "cell_type": "markdown",
      "source": [
        "###  Discussion\n",
        " Generating\tarrays\tprefilled\twith\tdata\tis\tuseful\tfor\ta\tnumber\tof\tpurposes,\tsuch\tas\tmaking\tcode\tmore\n",
        " performant\tor\thaving\tsynthetic\tdata\tto\ttest\talgorithms\twith.\tIn\tmany\tprogramming\tlanguages,\tpre\n",
        "allocating\tan\tarray\tof\tdefault\tvalues\t(such\tas\t0s)\tis\tconsidered\tcommon\tpractice"
      ],
      "metadata": {
        "id": "sQIi28KZsRSQ"
      }
    },
    {
      "cell_type": "markdown",
      "source": [
        "##  1.5\tSelecting\tElements\n",
        "### Problem\n",
        " You\tneed\tto\tselect\tone\tor\tmore\telements\tin\ta\tvector\tor\tmatrix.\n",
        "### Solution\n",
        " NumPy’s\tarrays\tmake\tit\teasy\tto\tselect\telements\tin\tvectors\tor\tmatrices"
      ],
      "metadata": {
        "id": "Vm295qG9sZ3m"
      }
    },
    {
      "cell_type": "code",
      "source": [
        "import numpy as np\n",
        "\n",
        "# Create row vector\n",
        "vector = np.array([1, 2, 3, 4, 5, 6])\n",
        "\n",
        "# Create matrix\n",
        "matrix = np.array([[1, 2, 3], [4, 5, 6], [7, 8, 9]])\n",
        "\n",
        "display(vector[2])\n",
        "\n",
        "display(matrix[1, 1])"
      ],
      "metadata": {
        "id": "JSkq_b0cr90L",
        "outputId": "f58cc97f-ea0b-4b84-a15e-db862201d847",
        "colab": {
          "base_uri": "https://localhost:8080/",
          "height": 52
        }
      },
      "execution_count": null,
      "outputs": [
        {
          "output_type": "display_data",
          "data": {
            "text/plain": [
              "np.int64(3)"
            ]
          },
          "metadata": {}
        },
        {
          "output_type": "display_data",
          "data": {
            "text/plain": [
              "np.int64(5)"
            ]
          },
          "metadata": {}
        }
      ]
    },
    {
      "cell_type": "markdown",
      "source": [
        "### Discussion\n",
        " Like\tmost\tthings\tin\tPython,\tNumPy\tarrays\tare\tzero-indexed,\tmeaning\tthat\tthe\tindex\tof\tthe\tfirst\telement \\\\\n",
        " is\t0,\tnot\t1.\tWith\tthat\tcaveat,\tNumPy\toffers\ta\twide\tvariety\tof\tmethods\tfor\tselecting\t(i.e.,\tindexing\tand \\\\\n",
        " slicing)\telements\tor\tgroups\tof\telements\tin\tarrays"
      ],
      "metadata": {
        "id": "kco-U9oOtB4G"
      }
    },
    {
      "cell_type": "code",
      "source": [
        "vector[:]"
      ],
      "metadata": {
        "id": "toR6Zoqkstaf",
        "outputId": "f1d832ef-0b6e-43bf-b941-4788204b7187",
        "colab": {
          "base_uri": "https://localhost:8080/"
        }
      },
      "execution_count": null,
      "outputs": [
        {
          "output_type": "execute_result",
          "data": {
            "text/plain": [
              "array([1, 2, 3, 4, 5, 6])"
            ]
          },
          "metadata": {},
          "execution_count": 21
        }
      ]
    },
    {
      "cell_type": "code",
      "source": [
        "vector[:3]"
      ],
      "metadata": {
        "id": "uCWTfKlftIr0",
        "outputId": "b81c1bdd-1298-4037-a2d0-282cb3b0059e",
        "colab": {
          "base_uri": "https://localhost:8080/"
        }
      },
      "execution_count": null,
      "outputs": [
        {
          "output_type": "execute_result",
          "data": {
            "text/plain": [
              "array([1, 2, 3])"
            ]
          },
          "metadata": {},
          "execution_count": 22
        }
      ]
    },
    {
      "cell_type": "code",
      "source": [
        "vector[-1]"
      ],
      "metadata": {
        "id": "Yiab-cg3tMzx",
        "outputId": "fc9e666f-ea7b-4aed-e9e3-e9741c6a999d",
        "colab": {
          "base_uri": "https://localhost:8080/"
        }
      },
      "execution_count": null,
      "outputs": [
        {
          "output_type": "execute_result",
          "data": {
            "text/plain": [
              "np.int64(6)"
            ]
          },
          "metadata": {},
          "execution_count": 23
        }
      ]
    },
    {
      "cell_type": "code",
      "source": [
        "vector[::-1]"
      ],
      "metadata": {
        "id": "S18Yp1jrtOBn",
        "outputId": "c07c3def-ba41-42ad-dafb-f307c55c1f18",
        "colab": {
          "base_uri": "https://localhost:8080/"
        }
      },
      "execution_count": null,
      "outputs": [
        {
          "output_type": "execute_result",
          "data": {
            "text/plain": [
              "array([6, 5, 4, 3, 2, 1])"
            ]
          },
          "metadata": {},
          "execution_count": 24
        }
      ]
    },
    {
      "cell_type": "code",
      "source": [
        "matrix[:2, :]"
      ],
      "metadata": {
        "id": "oraaPkKctQLO",
        "outputId": "262fd394-3c48-45b7-da97-fd28b44b31f2",
        "colab": {
          "base_uri": "https://localhost:8080/"
        }
      },
      "execution_count": null,
      "outputs": [
        {
          "output_type": "execute_result",
          "data": {
            "text/plain": [
              "array([[1, 2, 3],\n",
              "       [4, 5, 6]])"
            ]
          },
          "metadata": {},
          "execution_count": 25
        }
      ]
    },
    {
      "cell_type": "code",
      "source": [
        "matrix[:, 1:2]"
      ],
      "metadata": {
        "id": "rxFhlhRgtTFL",
        "outputId": "f356f3ba-1d54-4dff-a7fd-5cd17d8a1560",
        "colab": {
          "base_uri": "https://localhost:8080/"
        }
      },
      "execution_count": 26,
      "outputs": [
        {
          "output_type": "execute_result",
          "data": {
            "text/plain": [
              "array([[2],\n",
              "       [5],\n",
              "       [8]])"
            ]
          },
          "metadata": {},
          "execution_count": 26
        }
      ]
    },
    {
      "cell_type": "code",
      "source": [],
      "metadata": {
        "id": "VPxhj3af23zm"
      },
      "execution_count": 29,
      "outputs": []
    },
    {
      "cell_type": "markdown",
      "source": [
        "##  1.6\tDescribing\ta\tMatrix\n",
        "### Problem\n",
        " You\twant\tto\tdescribe\tthe\tshape,\tsize,\tand\tdimensions\tof\tthe\tmatrix.\n",
        "### Solution\n",
        " Use\tthe\tshape,\tsize,\tand\tndim\tattributes\tof\ta\tNumPy\tobject:"
      ],
      "metadata": {
        "id": "AR3g4P3x25od"
      }
    },
    {
      "cell_type": "code",
      "source": [
        "matrix.shape"
      ],
      "metadata": {
        "id": "uLdibnN728Yt",
        "outputId": "600995c7-c1dd-4f17-d3d8-d52743c87b8f",
        "colab": {
          "base_uri": "https://localhost:8080/"
        }
      },
      "execution_count": 27,
      "outputs": [
        {
          "output_type": "execute_result",
          "data": {
            "text/plain": [
              "(3, 3)"
            ]
          },
          "metadata": {},
          "execution_count": 27
        }
      ]
    },
    {
      "cell_type": "code",
      "source": [
        "matrix.size"
      ],
      "metadata": {
        "id": "3M_jZHUA3C42",
        "outputId": "9a44cd66-c7ea-4045-936f-9ddd4531f697",
        "colab": {
          "base_uri": "https://localhost:8080/"
        }
      },
      "execution_count": 28,
      "outputs": [
        {
          "output_type": "execute_result",
          "data": {
            "text/plain": [
              "9"
            ]
          },
          "metadata": {},
          "execution_count": 28
        }
      ]
    },
    {
      "cell_type": "code",
      "source": [
        "matrix.ndim"
      ],
      "metadata": {
        "id": "Muz1E6pp3EZw",
        "outputId": "a2324843-87ac-451d-943e-093aa87a1712",
        "colab": {
          "base_uri": "https://localhost:8080/"
        }
      },
      "execution_count": 29,
      "outputs": [
        {
          "output_type": "execute_result",
          "data": {
            "text/plain": [
              "2"
            ]
          },
          "metadata": {},
          "execution_count": 29
        }
      ]
    },
    {
      "cell_type": "markdown",
      "source": [
        "### Discussion\n",
        " This\tmight\tseem\tbasic\t(and\tit\tis);\thowever,\ttime\tand\tagain\tit\twill\tbe\tvaluable\tto\tcheck\tthe\tshape\tand\n",
        " size\tof\tan\tarray\tboth\tfor\tfurther\tcalculations\tand\tsimply\tas\ta\tgut\tcheck\tafter\tsome\toperation"
      ],
      "metadata": {
        "id": "6K0veNba3Hus"
      }
    },
    {
      "cell_type": "markdown",
      "source": [
        "## 1.7\tApplying\tFunctions\tOver\tEach\tElement\n",
        "### Problem\n",
        " You\twant\tto\tapply\tsome\tfunction\tto\tall\telements\tin\tan\tarray.\n",
        "### Solution\n",
        " Use\tNumPy's\tvectorize\tmethod:"
      ],
      "metadata": {
        "id": "QND1maUZ3hXe"
      }
    },
    {
      "cell_type": "code",
      "source": [
        "# Create matrix\n",
        "matrix = np.array([[1, 2, 3], [4, 5, 6], [7, 8, 9]])\n",
        "\n",
        "# Create function that adds 100 to something\n",
        "add_100 = lambda i: i + 100\n",
        "\n",
        "# Create vectorized function\n",
        "vectorized_add_100 = np.vectorize(add_100)\n",
        "\n",
        "# Apply function to all elements in matrix\n",
        "vectorized_add_100(matrix)"
      ],
      "metadata": {
        "id": "E0JWGSdZ3o1z",
        "outputId": "cf90addd-3d1d-4407-b45a-1970c40bdd6b",
        "colab": {
          "base_uri": "https://localhost:8080/"
        }
      },
      "execution_count": 30,
      "outputs": [
        {
          "output_type": "execute_result",
          "data": {
            "text/plain": [
              "array([[101, 102, 103],\n",
              "       [104, 105, 106],\n",
              "       [107, 108, 109]])"
            ]
          },
          "metadata": {},
          "execution_count": 30
        }
      ]
    },
    {
      "cell_type": "markdown",
      "source": [
        "###  Discussion\n",
        " NumPy’s\tvectorize\tclass\tconverts\ta\tfunction\tinto\ta\tfunction\tthat\tcan\tapply\tto\tall\telements\tin\tan\tarray\n",
        " or\tslice\tof\tan\tarray.\tIt’s\tworth\tnoting\tthat\tvectorize\tis\tessentially\ta\tfor\tloop\tover\tthe\telements\tand\n",
        " does\tnot\tincrease\tperformance.\tFurthermore,\tNumPy\tarrays\tallow\tus\tto\tperform\toperations\tbetween\n",
        " arrays\teven\tif\ttheir\tdimensions\tare\tnot\tthe\tsame\t(a\tprocess\tcalled\tbroadcasting).\tFor\texample,\twe\tcan\n",
        "create\ta\tmuch\tsimpler\tversion\tof\tour\tsolution\tusing\tbroadcasting"
      ],
      "metadata": {
        "id": "PQDOoGYV4Qw3"
      }
    },
    {
      "cell_type": "code",
      "source": [
        "matrix + 100"
      ],
      "metadata": {
        "id": "sggdsTrf4Uux",
        "outputId": "fb83a982-dfa8-4880-c3fc-bfdde62d08fe",
        "colab": {
          "base_uri": "https://localhost:8080/"
        }
      },
      "execution_count": 31,
      "outputs": [
        {
          "output_type": "execute_result",
          "data": {
            "text/plain": [
              "array([[101, 102, 103],\n",
              "       [104, 105, 106],\n",
              "       [107, 108, 109]])"
            ]
          },
          "metadata": {},
          "execution_count": 31
        }
      ]
    },
    {
      "cell_type": "markdown",
      "source": [
        "## 1.8\tFinding\tthe\tMaximum\tand\tMinimum\tValues\n",
        "### Problem\n",
        " You\tneed\tto\tfind\tthe\tmaximum\tor\tminimum\tvalue\tin\tan\tarray.\n",
        "### Solution\n",
        " Use\tNumPy’s\tmax\tand\tmin\tmethods"
      ],
      "metadata": {
        "id": "4V6my1Oh4gRN"
      }
    },
    {
      "cell_type": "code",
      "source": [
        "import numpy as np\n",
        "\n",
        "# Create a matrix\n",
        "matrix = np.array([[1, 2, 3], [4, 5, 6], [7, 8, 9]])\n",
        "\n",
        "display(matrix)"
      ],
      "metadata": {
        "id": "wGQesiX84nCj",
        "outputId": "90e63663-31e8-495a-ccb0-6b0a2e911357",
        "colab": {
          "base_uri": "https://localhost:8080/",
          "height": 69
        }
      },
      "execution_count": 47,
      "outputs": [
        {
          "output_type": "display_data",
          "data": {
            "text/plain": [
              "array([[1, 2, 3],\n",
              "       [4, 5, 6],\n",
              "       [7, 8, 9]])"
            ]
          },
          "metadata": {}
        }
      ]
    },
    {
      "cell_type": "code",
      "source": [
        "# Returne maximum element\n",
        "np.max(matrix)"
      ],
      "metadata": {
        "id": "vem_TVQl5bq1",
        "outputId": "c21ccb5f-7595-46d7-99bc-c97401a2e831",
        "colab": {
          "base_uri": "https://localhost:8080/"
        }
      },
      "execution_count": 48,
      "outputs": [
        {
          "output_type": "execute_result",
          "data": {
            "text/plain": [
              "np.int64(9)"
            ]
          },
          "metadata": {},
          "execution_count": 48
        }
      ]
    },
    {
      "cell_type": "code",
      "source": [
        "# Return minimum element\n",
        "np.min(matrix)"
      ],
      "metadata": {
        "id": "hMAcRn7N4zAk",
        "outputId": "6fc3782a-c816-4981-f8cf-0439520a4d62",
        "colab": {
          "base_uri": "https://localhost:8080/"
        }
      },
      "execution_count": 49,
      "outputs": [
        {
          "output_type": "execute_result",
          "data": {
            "text/plain": [
              "np.int64(1)"
            ]
          },
          "metadata": {},
          "execution_count": 49
        }
      ]
    },
    {
      "cell_type": "markdown",
      "source": [
        "###  Discussion\n",
        " Often\twe\twant\tto\tknow\tthe\tmaximum\tand\tminimum\tvalue\tin\tan\tarray\tor\tsubset\tof\tan\tarray.\tThis\tcan\tbe\n",
        " accomplished\twith\tthe\tmax\tand\tmin\tmethods.\tUsing\tthe\taxis\tparameter\twe\tcan\talso\tapply\tthe\toperation\n",
        " along\ta\tcertain\taxis"
      ],
      "metadata": {
        "id": "MKedlxj045ot"
      }
    },
    {
      "cell_type": "code",
      "source": [
        "# Find maximum element in dach column\n",
        "np.max(matrix, axis=0)"
      ],
      "metadata": {
        "id": "58eGnOUA5AgK",
        "outputId": "17e0477b-09f5-4ac3-bcd7-fa79fb235f8e",
        "colab": {
          "base_uri": "https://localhost:8080/"
        }
      },
      "execution_count": 50,
      "outputs": [
        {
          "output_type": "execute_result",
          "data": {
            "text/plain": [
              "array([7, 8, 9])"
            ]
          },
          "metadata": {},
          "execution_count": 50
        }
      ]
    },
    {
      "cell_type": "code",
      "source": [
        "# Find maximum element in each row\n",
        "np.max(matrix, axis=1)"
      ],
      "metadata": {
        "id": "UyPaJFP05L5-",
        "outputId": "073c9ad6-c8dc-47fb-ca5a-a62afc4ff0d9",
        "colab": {
          "base_uri": "https://localhost:8080/"
        }
      },
      "execution_count": 51,
      "outputs": [
        {
          "output_type": "execute_result",
          "data": {
            "text/plain": [
              "array([3, 6, 9])"
            ]
          },
          "metadata": {},
          "execution_count": 51
        }
      ]
    },
    {
      "cell_type": "markdown",
      "source": [
        "## 1.9\tCalculating\tthe\tAverage,\tVariance,\tand\tStandard\tDeviation\n",
        "### Problem\n",
        " You\twant\tto\tcalculate\tsome\tdescriptive\tstatistics\tabout\tan\tarray.\n",
        "### Solution\n",
        " Use\tNumPy's\tmean,\tvar,\tand\tstd"
      ],
      "metadata": {
        "id": "pRAYUaHu5t7o"
      }
    },
    {
      "cell_type": "code",
      "source": [
        "matrix = np.array([[1, 2, 3], [4, 5, 6], [7, 8, 9]])"
      ],
      "metadata": {
        "id": "QVGeuI-B6AzJ"
      },
      "execution_count": 52,
      "outputs": []
    },
    {
      "cell_type": "code",
      "source": [
        "# Return mean\n",
        "np.mean(matrix)"
      ],
      "metadata": {
        "id": "V2IoeA256Ewq",
        "outputId": "6aaaf191-ef02-4971-c67a-f4e0ca441f70",
        "colab": {
          "base_uri": "https://localhost:8080/"
        }
      },
      "execution_count": 56,
      "outputs": [
        {
          "output_type": "execute_result",
          "data": {
            "text/plain": [
              "np.float64(5.0)"
            ]
          },
          "metadata": {},
          "execution_count": 56
        }
      ]
    },
    {
      "cell_type": "code",
      "source": [
        "# Return var\n",
        "np.var(matrix)"
      ],
      "metadata": {
        "id": "-d3wgWzA6MGp",
        "outputId": "1e7fd092-5801-4af8-f4e1-00f2ac6debc9",
        "colab": {
          "base_uri": "https://localhost:8080/"
        }
      },
      "execution_count": 57,
      "outputs": [
        {
          "output_type": "execute_result",
          "data": {
            "text/plain": [
              "np.float64(6.666666666666667)"
            ]
          },
          "metadata": {},
          "execution_count": 57
        }
      ]
    },
    {
      "cell_type": "code",
      "source": [
        "# Return std\n",
        "np.std(matrix)"
      ],
      "metadata": {
        "id": "zIIp8zY46QYk",
        "outputId": "92e12525-0479-4aa8-9b84-e3a580aa1449",
        "colab": {
          "base_uri": "https://localhost:8080/"
        }
      },
      "execution_count": 58,
      "outputs": [
        {
          "output_type": "execute_result",
          "data": {
            "text/plain": [
              "np.float64(2.581988897471611)"
            ]
          },
          "metadata": {},
          "execution_count": 58
        }
      ]
    },
    {
      "cell_type": "markdown",
      "source": [
        "###  Discussion\n",
        " Just\tlike\twith\tmax\tand\tmin,\twe\tcan\teasily\tget\tdescriptive\tstatistics\tabout\tthe\twhole\tmatrix\tor\tdo\n",
        " calculations\talong\ta\tsingle\taxis:"
      ],
      "metadata": {
        "id": "uIkC66s36WiR"
      }
    },
    {
      "cell_type": "code",
      "source": [
        "# Find the mean value in each column\n",
        "np.mean(matrix, axis=0)"
      ],
      "metadata": {
        "id": "RGEZ64QE6X3j",
        "outputId": "c9ce5011-ba3b-4d6b-b7db-765c57d6fc8e",
        "colab": {
          "base_uri": "https://localhost:8080/"
        }
      },
      "execution_count": 59,
      "outputs": [
        {
          "output_type": "execute_result",
          "data": {
            "text/plain": [
              "array([4., 5., 6.])"
            ]
          },
          "metadata": {},
          "execution_count": 59
        }
      ]
    },
    {
      "cell_type": "markdown",
      "source": [
        "##  1.10\tReshaping\tArrays\n",
        "### Problem\n",
        " You\twant\tto\tchange\tthe\tshape\t(number\tof\trows\tand\tcolumns)\tof\tan\tarray\twithout\tchanging\tthe\telement\n",
        " values\n",
        "\n",
        "### Solution\n",
        " Use\tNumPy’s\treshape"
      ],
      "metadata": {
        "id": "arow2Kpc6u9-"
      }
    },
    {
      "cell_type": "code",
      "source": [
        "matrix = np.array([[1, 2, 3], [4, 5, 6], [7, 8, 9], [10, 11, 12]])\n",
        "\n",
        "# Reshape matrix into 2x6 matrix\n",
        "matrix.reshape(2, 6)"
      ],
      "metadata": {
        "id": "8zv94Xmq66UP",
        "outputId": "304f0fdd-765e-4daf-93ed-bba845b7aa6a",
        "colab": {
          "base_uri": "https://localhost:8080/"
        }
      },
      "execution_count": 60,
      "outputs": [
        {
          "output_type": "execute_result",
          "data": {
            "text/plain": [
              "array([[ 1,  2,  3,  4,  5,  6],\n",
              "       [ 7,  8,  9, 10, 11, 12]])"
            ]
          },
          "metadata": {},
          "execution_count": 60
        }
      ]
    },
    {
      "cell_type": "markdown",
      "source": [
        "### Discussion\n",
        " reshape\tallows\tus\tto\trestructure\tan\tarray\tso\tthat\twe\tmaintain\tthe\tsame\tdata\tbut\tit\tis\torganized\tas\ta\n",
        " different\tnumber\tof\trows\tand\tcolumns.\tThe\tonly\trequirement\tis\tthat\tthe\tshape\tof\tthe\toriginal\tand\tnew\n",
        " matrix\tcontain\tthe\tsame\tnumber\tof\telements\t(i.e.,\tthe\tsame\tsize).\tWe\tcan\tsee\tthe\tsize\tof\ta\tmatrix\tusing\n",
        " size:"
      ],
      "metadata": {
        "id": "Wkp23fcS7EnT"
      }
    },
    {
      "cell_type": "code",
      "source": [
        "matrix.size"
      ],
      "metadata": {
        "id": "jXxG5PPQ7GaZ",
        "outputId": "f8aca9da-dc93-4c6c-b014-28a8e6b51b7b",
        "colab": {
          "base_uri": "https://localhost:8080/"
        }
      },
      "execution_count": 61,
      "outputs": [
        {
          "output_type": "execute_result",
          "data": {
            "text/plain": [
              "12"
            ]
          },
          "metadata": {},
          "execution_count": 61
        }
      ]
    },
    {
      "cell_type": "markdown",
      "source": [
        " One\tuseful\targument\tin\treshape\tis\t-1,\twhich\teffectively\tmeans\t“as\tmany\tas\tneeded,”\tso\treshape(1,-1)\tmeans\tone\trow\tand\tas\tmany\tcolumns\tas\tneeded:"
      ],
      "metadata": {
        "id": "Mu9BndqF7O57"
      }
    },
    {
      "cell_type": "code",
      "source": [
        "matrix.reshape(1, -1)"
      ],
      "metadata": {
        "id": "EfI0Smi17KKU",
        "outputId": "a2a7bca0-677b-496f-ac53-f50c605780fe",
        "colab": {
          "base_uri": "https://localhost:8080/"
        }
      },
      "execution_count": 62,
      "outputs": [
        {
          "output_type": "execute_result",
          "data": {
            "text/plain": [
              "array([[ 1,  2,  3,  4,  5,  6,  7,  8,  9, 10, 11, 12]])"
            ]
          },
          "metadata": {},
          "execution_count": 62
        }
      ]
    },
    {
      "cell_type": "markdown",
      "source": [
        "Finally,\tif\twe\tprovide\tone\tinteger,\treshape\twill\treturn\ta\t1D\tarray\tof\tthat\tlength"
      ],
      "metadata": {
        "id": "mZS7PYPh7Wq2"
      }
    },
    {
      "cell_type": "code",
      "source": [
        "matrix.reshape(12)"
      ],
      "metadata": {
        "id": "W4dsQKRI7KHd",
        "outputId": "2eb6c0e2-da43-42a0-c647-b1b56638bd4a",
        "colab": {
          "base_uri": "https://localhost:8080/"
        }
      },
      "execution_count": 63,
      "outputs": [
        {
          "output_type": "execute_result",
          "data": {
            "text/plain": [
              "array([ 1,  2,  3,  4,  5,  6,  7,  8,  9, 10, 11, 12])"
            ]
          },
          "metadata": {},
          "execution_count": 63
        }
      ]
    },
    {
      "cell_type": "markdown",
      "source": [
        "## 1.11\tTransposing\ta\tVector\tor\tMatrix\n",
        " ### Problem\n",
        " You\tneed\tto\ttranspose\ta\tvector\tor\tmatrix.\n",
        " ### Solution\n",
        " Use\tthe\tT\tmethod"
      ],
      "metadata": {
        "id": "FO8RbLoJ7d8j"
      }
    },
    {
      "cell_type": "code",
      "source": [
        "matrix = np.array([[1, 2, 3], [4, 5, 6], [7, 8, 9]])\n",
        "\n",
        "# Transpose matrix\n",
        "matrix.T"
      ],
      "metadata": {
        "id": "0iqvvv7x7b97",
        "outputId": "99845d9b-6621-40a4-d6f0-ec8719f35644",
        "colab": {
          "base_uri": "https://localhost:8080/"
        }
      },
      "execution_count": 65,
      "outputs": [
        {
          "output_type": "execute_result",
          "data": {
            "text/plain": [
              "array([[1, 4, 7],\n",
              "       [2, 5, 8],\n",
              "       [3, 6, 9]])"
            ]
          },
          "metadata": {},
          "execution_count": 65
        }
      ]
    },
    {
      "cell_type": "markdown",
      "source": [
        "###  Discussion\n",
        " Transposing\tis\ta\tcommon\toperation\tin\tlinear\talgebra\twhere\tthe\tcolumn\tand\trow\tindices\tof\teach\telement\n",
        " are\tswapped.\tOne\tnuanced\tpoint\tthat\tis\ttypically\toverlooked\toutside\tof\ta\tlinear\talgebra\tclass\tis\tthat,\n",
        " technically,\ta\tvector\tcannot\tbe\ttransposed\tbecause\tit\tis\tjust\ta\tcollection\tof\tvalues"
      ],
      "metadata": {
        "id": "533xZUux7sw8"
      }
    },
    {
      "cell_type": "code",
      "source": [
        "# Transpose vector\n",
        "np.array([1, 2, 3, 4, 5, 6]).T"
      ],
      "metadata": {
        "id": "2V2q3K0F7uR9",
        "outputId": "18a574e0-389a-41c6-ef6b-7a6adbd1e121",
        "colab": {
          "base_uri": "https://localhost:8080/"
        }
      },
      "execution_count": 70,
      "outputs": [
        {
          "output_type": "execute_result",
          "data": {
            "text/plain": [
              "array([1, 2, 3, 4, 5, 6])"
            ]
          },
          "metadata": {},
          "execution_count": 70
        }
      ]
    },
    {
      "cell_type": "markdown",
      "source": [
        " However,\tit\tis\tcommon\tto\trefer\tto\ttransposing\ta\tvector\tas\tconverting\ta\trow\tvector\tto\ta\tcolumn\tvector\n",
        " (notice\tthe\tsecond\tpair\tof\tbrackets)\tor\tvice\tversa:"
      ],
      "metadata": {
        "id": "SGMI9tt575aT"
      }
    },
    {
      "cell_type": "code",
      "source": [
        "# Transpose row vector\n",
        "np.array([[1, 2, 3, 4, 5, 6]]).T"
      ],
      "metadata": {
        "id": "Dol4bRGz78pe",
        "outputId": "b9a42582-c33c-453c-92c3-50196de6536e",
        "colab": {
          "base_uri": "https://localhost:8080/"
        }
      },
      "execution_count": 71,
      "outputs": [
        {
          "output_type": "execute_result",
          "data": {
            "text/plain": [
              "array([[1],\n",
              "       [2],\n",
              "       [3],\n",
              "       [4],\n",
              "       [5],\n",
              "       [6]])"
            ]
          },
          "metadata": {},
          "execution_count": 71
        }
      ]
    },
    {
      "cell_type": "markdown",
      "source": [
        "## 1.12\tFlattening\ta\tMatrix\n",
        "### Problem\n",
        " You\tneed\tto\ttransform\ta\tmatrix\tinto\ta\tone-dimensional\tarray.\n",
        "### Solution\n",
        " Use\tflatten:"
      ],
      "metadata": {
        "id": "yMf1N3cx8VFJ"
      }
    },
    {
      "cell_type": "code",
      "source": [
        "matrix = np.array([[1, 2, 3], [4, 5, 6], [7, 8, 9]])\n",
        "\n",
        "# Flatten matrix\n",
        "matrix.flatten()"
      ],
      "metadata": {
        "id": "tpJPvEUj8aU-",
        "outputId": "89ed63ff-9863-46cd-be2a-afed383b9699",
        "colab": {
          "base_uri": "https://localhost:8080/"
        }
      },
      "execution_count": 72,
      "outputs": [
        {
          "output_type": "execute_result",
          "data": {
            "text/plain": [
              "array([1, 2, 3, 4, 5, 6, 7, 8, 9])"
            ]
          },
          "metadata": {},
          "execution_count": 72
        }
      ]
    },
    {
      "cell_type": "markdown",
      "source": [
        "### Discussion\n",
        " flatten\tis\ta\tsimple\tmethod\tto\ttransform\ta\tmatrix\tinto\ta\tone-dimensional\tarray.\tAlternatively,\twe\tcan\n",
        " use\treshape\tto\tcreate\ta\trow\tvector"
      ],
      "metadata": {
        "id": "hHERMChX8gTB"
      }
    },
    {
      "cell_type": "code",
      "source": [
        "matrix.reshape(1, -1)"
      ],
      "metadata": {
        "id": "FvlwIuO88iRW",
        "outputId": "01e225e5-b7ee-4b94-be23-9cb5735765e3",
        "colab": {
          "base_uri": "https://localhost:8080/"
        }
      },
      "execution_count": 73,
      "outputs": [
        {
          "output_type": "execute_result",
          "data": {
            "text/plain": [
              "array([[1, 2, 3, 4, 5, 6, 7, 8, 9]])"
            ]
          },
          "metadata": {},
          "execution_count": 73
        }
      ]
    },
    {
      "cell_type": "markdown",
      "source": [
        "One\tmore\tcommon\tmethod\tto\tflatten\tarrays\tis\tthe\travel\tmethod.\tUnlike\tflatten\twhich\treturns\ta\tcopy\n",
        " of\tthe\toriginal\tarray,\travel\toperates\ton\tthe\toriginal\tobject\titself\tand\tis\ttherefore\tslightly\tfaster.\tIt\talso\n",
        " lets\tus\tflatten\tlists\tof\tarrays,\twhich\twe\tcan’t\tdo\twith\tthe\tflatten\tmethod.\tThis\toperation\tis\tuseful\tfor\n",
        " flattening\tvery\tlarge\tarrays\tand\tspeeding\tup\tcode."
      ],
      "metadata": {
        "id": "ceaUpTHi8mgK"
      }
    },
    {
      "cell_type": "code",
      "source": [
        "# Create one matrix\n",
        "matrix_a = np.array([[1, 2], [3, 4]])\n",
        "\n",
        "# Create a second matrix\n",
        "matrix_b = np.array([[5, 6], [7, 8]])\n",
        "\n",
        "# Create a list of matrics\n",
        "matrix_list = [matrix_a, matrix_b]\n",
        "\n",
        "matrix_list"
      ],
      "metadata": {
        "id": "GMoJira-8nxq",
        "outputId": "5594922f-16f2-4c77-efa7-7d5593a47c23",
        "colab": {
          "base_uri": "https://localhost:8080/"
        }
      },
      "execution_count": 75,
      "outputs": [
        {
          "output_type": "execute_result",
          "data": {
            "text/plain": [
              "[array([[1, 2],\n",
              "        [3, 4]]),\n",
              " array([[5, 6],\n",
              "        [7, 8]])]"
            ]
          },
          "metadata": {},
          "execution_count": 75
        }
      ]
    },
    {
      "cell_type": "code",
      "source": [
        "# Flatten the entire list of matrices\n",
        "np.ravel(matrix_list)"
      ],
      "metadata": {
        "id": "kSVpVlDg9FhR",
        "outputId": "549d8de1-103a-4f6f-d413-65559b74b9f1",
        "colab": {
          "base_uri": "https://localhost:8080/"
        }
      },
      "execution_count": 76,
      "outputs": [
        {
          "output_type": "execute_result",
          "data": {
            "text/plain": [
              "array([1, 2, 3, 4, 5, 6, 7, 8])"
            ]
          },
          "metadata": {},
          "execution_count": 76
        }
      ]
    },
    {
      "cell_type": "markdown",
      "source": [
        "## Will remove later when chapter completes\n",
        "\n",
        "---"
      ],
      "metadata": {
        "id": "0PXi3ldD3OHh"
      }
    },
    {
      "cell_type": "markdown",
      "source": [
        "# Topic 2"
      ],
      "metadata": {
        "id": "BSUKq96p3LB7"
      }
    },
    {
      "cell_type": "code",
      "source": [],
      "metadata": {
        "id": "FZ4w8i573Flp"
      },
      "execution_count": null,
      "outputs": []
    },
    {
      "cell_type": "code",
      "source": [],
      "metadata": {
        "id": "2kiJLXXw9QzK"
      },
      "execution_count": null,
      "outputs": []
    }
  ]
}